{
 "cells": [
  {
   "cell_type": "markdown",
   "metadata": {},
   "source": [
    "# OCDS for Infrastructure - Ukraine Demonstrator"
   ]
  },
  {
   "cell_type": "markdown",
   "metadata": {},
   "source": [
    "## Part 1: Scraping data from CoST Ukraine portal"
   ]
  },
  {
   "cell_type": "markdown",
   "metadata": {},
   "source": [
    "Navigate to the [CoST Ukraine Portal](http://portal.costukraine.org)\n",
    "\n",
    "*Note: Use Google Chrome with auto-translation enabled, unless you speak Ukrainian*\n",
    "\n",
    "Currently only projects of Ukravtodor, the State Highways Agency, are listed, so click the Ukravtodor logo.\n",
    "\n",
    "Use the map to choose a region to see the projects list for, e.g. the [Sumy region](http://portal.costukraine.org/proekti/ukravtodor/sumska-oblast/)\n",
    "\n",
    "Auto-translate doesn't work on the projects list page, so click \"ТАБЛИЦІ\" in the grey header bar to get a view which can be translated.\n",
    "\n",
    "*Note: You might need to open the \"ТАБЛИЦІ\" link in a new tab to get it to load*\n",
    "\n",
    "Choose the project which you want to scrape from the list, e.g. [Reconstruction of the bridge crossing on the highway N-12 Sumy-Poltava km 70 + 838](http://89.185.0.248:8888/UAD/SUM/PROJECTS.php?hname=dbo_PROJECTS_dbo_PROJECTS_TECH_DETAILS_handler&fk0=173&master_viewmode=0)\n",
    "\n",
    "Set the following variables based on the URL of the project you selected:"
   ]
  },
  {
   "cell_type": "code",
   "execution_count": 51,
   "metadata": {},
   "outputs": [],
   "source": [
    "#update with url segment for the public entity, e.g. UAD for State Highways Agency of Ukraine\n",
    "publicEntity = \"UAD\"\n",
    "\n",
    "#update with region for project, e.g. SUM for  region, note for MFO projects the url construction is slightly different (see commented out html = line below)\n",
    "region = \"SUM\"\n",
    "\n",
    "#update with value of &fk0 parameter in URL of project you want to scrape - this identifies the project\n",
    "foreignKey = \"173\""
   ]
  },
  {
   "cell_type": "markdown",
   "metadata": {},
   "source": [
    "Run the following script to scrape the data for your project:"
   ]
  },
  {
   "cell_type": "code",
   "execution_count": 52,
   "metadata": {},
   "outputs": [
    {
     "name": "stdout",
     "output_type": "stream",
     "text": [
      "scraping PROJECTS.php?hname=dbo_PROJECTS_dbo_PROJECTS_TECH_DETAILS_handler&fk0=173&master_viewmode=0\n",
      "scraping PROJECTS.php?hname=dbo_PROJECTS_dbo_PROJECTS_SUBJECTS_handler&fk0=173&master_viewmode=0\n",
      "scraping PROJECTS.php?hname=dbo_PROJECTS_dbo_PROJECTS_CUSTOMER_handler&fk0=173&master_viewmode=0\n",
      "scraping PROJECTS.php?hname=dbo_PROJECTS_dbo_PROJECTS_FINANCING_handler&fk0=173&master_viewmode=0\n",
      "scraping PROJECTS.php?hname=dbo_PROJECTS_dbo_PROJECTS_PROJECT_ORGANIZATION_handler&fk0=173&master_viewmode=0\n",
      "scraping PROJECTS.php?hname=dbo_PROJECTS_dbo_PROJECTS_CONTRACTOR_handler&fk0=173&master_viewmode=0\n",
      "scraping PROJECTS.php?hname=dbo_PROJECTS_dbo_PROJECTS_ENG_SUPERVIZORY_handler&fk0=173&master_viewmode=0\n",
      "scraping PROJECTS.php?hname=dbo_PROJECTS_dbo_PROJECTS_TECH_SUPERVIZORY_handler&fk0=173&master_viewmode=0\n",
      "done!\n"
     ]
    }
   ],
   "source": [
    "from requests import get\n",
    "from bs4 import BeautifulSoup\n",
    "import pprint\n",
    "import json\n",
    "\n",
    "#function to scrape content of main table\n",
    "def scrape(url,output):\n",
    "    \n",
    "    #get html and convert to nice object\n",
    "    html = get(url,stream=True).content\n",
    "    html = BeautifulSoup(html, \"html.parser\")\n",
    "    \n",
    "    #get name of section we are scraping and create an object for it\n",
    "    section = html.body[\"id\"]\n",
    "    output[section] = {} \n",
    "    \n",
    "    main_table = html.find(\"div\", class_=\"well\")\n",
    "    \n",
    "    if main_table != None:\n",
    "        for td in main_table.select(\"td\"):\n",
    "            if \"data-column-name\" in td.attrs:\n",
    "                output[section][td[\"data-column-name\"]] = td.text\n",
    "    \n",
    "    return output\n",
    "\n",
    "#get html of first page and convert to nice object\n",
    "html = get(\"http://89.185.0.248:8888/\"+publicEntity+\"/\"+region+\"/PROJECTS.php?hname=dbo_PROJECTS_dbo_PROJECTS_TECH_DETAILS_handler&fk0=\" + foreignKey + \"&master_viewmode=0\",stream=True).content\n",
    "# use the following line for MFO projects\n",
    "# html = get(\"http://portal.costukraine.org/uad_mfo/PROJECTS.php?hname=dbo_PROJECTS_dbo_PROJECTS_TECH_DETAILS_handler&fk0=\" + foreignKey + \"&master_viewmode=0\",stream=True).content\n",
    "html = BeautifulSoup(html, \"html.parser\")\n",
    "\n",
    "#set up array to store urls for each view of project\n",
    "urls = []\n",
    "\n",
    "#get urls of each page\n",
    "navigation = html.find(\"ul\", class_=\"nav nav-tabs grid-details-tabs\")\n",
    "for li in navigation.select(\"li\"):\n",
    "    urls.append(li.a[\"href\"])\n",
    "    \n",
    "#put amendments URL in separate variable (no data found for this page yet, so we don't do anything with this)\n",
    "amendmentsURL = urls.pop()\n",
    "\n",
    "#set up object for scraped data\n",
    "data = {}\n",
    "\n",
    "#scrape summary table (appears on each page, so only do this once)\n",
    "data[\"summary\"] = {}\n",
    "\n",
    "summary_table = html.find(\"div\", class_=\"grid grid-table grid-master js-grid\")\n",
    "\n",
    "for th in summary_table.select(\"th\"):\n",
    "        data[\"summary\"][th[\"data-name\"]] = \"\"\n",
    "        \n",
    "for td in summary_table.select(\"td\"):\n",
    "    if \"data-column-name\" in td.attrs:\n",
    "        data[\"summary\"][td[\"data-column-name\"]] = td.text\n",
    "\n",
    "#scrape main table on each page\n",
    "for url in urls:\n",
    "    print(\"scraping \" + url)\n",
    "    data = scrape(\"http://89.185.0.248:8888/\"+publicEntity+\"/\"+region+\"/\" + url, data)\n",
    "\n",
    "print(\"done scraping\")"
   ]
  },
  {
   "cell_type": "markdown",
   "metadata": {},
   "source": [
    "## Part 2a: Finding related contracts in Prozorro (front end search / openprocurement API)"
   ]
  },
  {
   "cell_type": "markdown",
   "metadata": {},
   "source": [
    "Using **untranslated** name of the project, search the [Prozorro front end](https://prozorro.gov.ua) for related tenders."
   ]
  },
  {
   "cell_type": "markdown",
   "metadata": {},
   "source": [
    "### Example"
   ]
  },
  {
   "cell_type": "markdown",
   "metadata": {},
   "source": [
    "The name of our project:\n",
    "\n",
    "> Reconstruction of the bridge crossing on the highway N-12 Sumy-Poltava km 70 + 838\n",
    "\n",
    "Was translated from:\n",
    "\n",
    "> Реконструкція мостового переходу на автомобільній дорозі Н-12 Суми-Полтава км 70+838\n",
    "\n",
    "Searching for the name of the highway (Н-12 Суми-Полтава) returns [67 results](https://prozorro.gov.ua/tender/search?query=%D0%9D-12%20%D0%A1%D1%83%D0%BC%D0%B8-%D0%9F%D0%BE%D0%BB%D1%82%D0%B0%D0%B2%D0%B0). Manually reviewing the results to identify those relating to the bridge at km 70 +838 results in 6 contracts:\n",
    "\n",
    "https://prozorro.gov.ua/tender/UA-2017-10-24-000686-a (ecd7008713ce40898a0b8a9e725cd75a)\n",
    "\n",
    "https://prozorro.gov.ua/tender/UA-2017-10-24-000672-a (1711f9b90d7244d68aa47d02f538e0f9)\n",
    "\n",
    "https://prozorro.gov.ua/tender/UA-2017-06-22-000543-b (1dc0ebaf0c3e4330bf242a91f39579e9)\n",
    "\n",
    "https://prozorro.gov.ua/tender/UA-2017-08-18-000844-c (58c516cadcfe4767852e94d63860aed6)\n",
    "\n",
    "https://prozorro.gov.ua/tender/UA-2016-12-14-000431-a (d87604c7236a43a09b5ec4249cc5cb84)\n",
    "\n",
    "https://prozorro.gov.ua/tender/UA-2016-08-22-000314-b (2f5da1f7f080416e91b3fd655abffc85)\n",
    "\n",
    "The individual tender view in the Prozorro front end includes the identifier needed to retrieve the related record from the [openprocurementapi](https://public.api.openprocurement.org/api/2/tenders/) (shown in brackets above)\n"
   ]
  },
  {
   "cell_type": "markdown",
   "metadata": {},
   "source": [
    "Populate the following array with the tender identifiers you found in the previous step:"
   ]
  },
  {
   "cell_type": "code",
   "execution_count": null,
   "metadata": {},
   "outputs": [],
   "source": [
    "identifiers = [\"ecd7008713ce40898a0b8a9e725cd75a\",\"1711f9b90d7244d68aa47d02f538e0f9\",\"1dc0ebaf0c3e4330bf242a91f39579e9\",\"58c516cadcfe4767852e94d63860aed6\",\"d87604c7236a43a09b5ec4249cc5cb84\",\"2f5da1f7f080416e91b3fd655abffc85\"]"
   ]
  },
  {
   "cell_type": "markdown",
   "metadata": {},
   "source": [
    "Run the following script to download the data from the openprocurement API:"
   ]
  },
  {
   "cell_type": "code",
   "execution_count": 53,
   "metadata": {},
   "outputs": [],
   "source": [
    "import urllib\n",
    "\n",
    "data[\"tenders\"] = []\n",
    "\n",
    "for identifier in identifiers:\n",
    "    with urllib.request.urlopen(\"https://public.api.openprocurement.org/api/2/tenders/\" + identifier) as url:\n",
    "        response = json.loads(url.read().decode())\n",
    "        data[\"tenders\"].append(response[\"data\"])\n"
   ]
  },
  {
   "cell_type": "code",
   "execution_count": 54,
   "metadata": {},
   "outputs": [],
   "source": [
    "#save results to file\n",
    "with open(\"data_\" + publicEntity + \"_\" + region + \"_\" + foreignKey + \".json\", \"w\") as output:\n",
    "    json.dump(data, output, indent = 4, ensure_ascii=False)"
   ]
  },
  {
   "cell_type": "markdown",
   "metadata": {},
   "source": [
    "## Part 2b: Finding related contracts in Prozorro (using ocdsdata ETL tool)"
   ]
  },
  {
   "cell_type": "markdown",
   "metadata": {},
   "source": [
    "Open SSH tunnel to ocdsdata server and connect to postgresql server"
   ]
  },
  {
   "cell_type": "code",
   "execution_count": 66,
   "metadata": {},
   "outputs": [
    {
     "name": "stdout",
     "output_type": "stream",
     "text": [
      "Enter private key passphrase: ········\n",
      "Enter database user password: ········\n"
     ]
    }
   ],
   "source": [
    "import getpass\n",
    "from sshtunnel import SSHTunnelForwarder\n",
    "import psycopg2\n",
    "\n",
    "passphrase = getpass.getpass(\"Enter private key passphrase: \")\n",
    "dbpassword = getpass.getpass(\"Enter database user password: \") #see /.pgpass file on server\n",
    "\n",
    "tunnel.close()\n",
    "\n",
    "#tunnel config\n",
    "tunnel = SSHTunnelForwarder((\"195.201.163.242\", 22),\n",
    "    ssh_username = 'ocdsdata',\n",
    "    ssh_pkey = '../../../../.ssh/id_rsa',\n",
    "    ssh_private_key_password = passphrase,\n",
    "    remote_bind_address = ('localhost', 5432),\n",
    "    local_bind_address = ('localhost', 1234),\n",
    ")\n",
    "\n",
    "#clear passphrase\n",
    "passphrase = ''\n",
    "\n",
    "#open tunnel\n",
    "tunnel.start()\n",
    "\n",
    "#db connection config\n",
    "conn = psycopg2.connect(\n",
    "    database = 'ocdsdata',\n",
    "    user = 'ocdsdata',\n",
    "    password = dbpassword,\n",
    "    host = tunnel.local_bind_host,\n",
    "    port = tunnel.local_bind_port,\n",
    ")\n",
    "\n",
    "#clear db user password\n",
    "dbpassword = ''\n",
    "\n",
    "#create db cursor\n",
    "cur = conn.cursor()"
   ]
  },
  {
   "cell_type": "markdown",
   "metadata": {},
   "source": [
    "Define function to pretty print query results"
   ]
  },
  {
   "cell_type": "code",
   "execution_count": 67,
   "metadata": {},
   "outputs": [],
   "source": [
    "from tabulate import tabulate\n",
    "\n",
    "def printResults(cur):\n",
    "    headers = [desc[0] for desc in cur.description]\n",
    "    records = cur.fetchall()\n",
    "\n",
    "    print(tabulate(records, headers = headers))"
   ]
  },
  {
   "cell_type": "markdown",
   "metadata": {},
   "source": [
    "Search for the name of the highway (Н-12 Суми-Полтава)"
   ]
  },
  {
   "cell_type": "code",
   "execution_count": 63,
   "metadata": {},
   "outputs": [
    {
     "name": "stdout",
     "output_type": "stream",
     "text": [
      "  release_count    ocid_count\n",
      "---------------  ------------\n",
      "             14            14\n"
     ]
    }
   ],
   "source": [
    "cur.execute(\"\"\"\n",
    "SELECT\n",
    "    COUNT(id) as release_count,\n",
    "    COUNT(DISTINCT data ->> 'ocid') as ocid_count\n",
    "FROM\n",
    "    data\n",
    "WHERE\n",
    "    data ->> 'ocid' LIKE 'ocds-be6bcu%'\n",
    "AND\n",
    "    data -> 'tender' ->> 'title' LIKE '%Н-12 Суми-Полтава%'\n",
    "\n",
    "\"\"\")\n",
    "\n",
    "printResults(cur)"
   ]
  },
  {
   "cell_type": "markdown",
   "metadata": {},
   "source": [
    "Refine search by km marker"
   ]
  },
  {
   "cell_type": "code",
   "execution_count": 64,
   "metadata": {},
   "outputs": [
    {
     "name": "stdout",
     "output_type": "stream",
     "text": [
      "  release_count    ocid_count\n",
      "---------------  ------------\n",
      "              6             6\n"
     ]
    }
   ],
   "source": [
    "cur.execute(\"\"\"\n",
    "SELECT\n",
    "    COUNT(id) as release_count,\n",
    "    COUNT(DISTINCT data ->> 'ocid') as ocid_count\n",
    "FROM\n",
    "    data\n",
    "WHERE\n",
    "    data ->> 'ocid' LIKE 'ocds-be6bcu%'\n",
    "AND\n",
    "    data -> 'tender' ->> 'title' LIKE '%Н-12 Суми-Полтава%'\n",
    "AND\n",
    "    data -> 'tender' ->> 'title' LIKE '%838%'\n",
    "\"\"\")\n",
    "\n",
    "printResults(cur)"
   ]
  },
  {
   "cell_type": "markdown",
   "metadata": {},
   "source": [
    "Check how many different ocids there are for the project and what tags"
   ]
  },
  {
   "cell_type": "code",
   "execution_count": 62,
   "metadata": {},
   "outputs": [
    {
     "name": "stdout",
     "output_type": "stream",
     "text": [
      "  release_count  ocid                                tag\n",
      "---------------  ----------------------------------  --------------------------------------\n",
      "              1  ocds-be6bcu-UA-2016-08-22-000314-b  [\"tender\", \"award\", \"contract\", \"bid\"]\n",
      "              1  ocds-be6bcu-UA-2016-12-14-000431-a  [\"tender\", \"award\", \"contract\"]\n",
      "              1  ocds-be6bcu-UA-2017-06-22-000543-b  [\"tender\", \"award\", \"contract\", \"bid\"]\n",
      "              1  ocds-be6bcu-UA-2017-08-18-000844-c  [\"tender\", \"award\", \"contract\"]\n",
      "              1  ocds-be6bcu-UA-2017-10-24-000672-a  [\"tender\", \"award\", \"contract\"]\n",
      "              1  ocds-be6bcu-UA-2017-10-24-000686-a  [\"tender\", \"award\", \"contract\"]\n"
     ]
    }
   ],
   "source": [
    "cur.execute(\"\"\"\n",
    "SELECT\n",
    "    COUNT(id) as release_count,\n",
    "    data ->> 'ocid' as ocid,\n",
    "    data ->> 'tag' as tag\n",
    "FROM\n",
    "    data\n",
    "WHERE\n",
    "    data ->> 'ocid' LIKE 'ocds-be6bcu%'\n",
    "AND\n",
    "    data -> 'tender' ->> 'title' LIKE '%Н-12 Суми-Полтава%'\n",
    "AND\n",
    "    data -> 'tender' ->> 'title' LIKE '%838%'\n",
    "GROUP BY\n",
    "    ocid,\n",
    "    tag\n",
    "\"\"\")\n",
    "\n",
    "printResults(cur)"
   ]
  },
  {
   "cell_type": "markdown",
   "metadata": {},
   "source": [
    "## Appendix 1: Exploring the Prozorro dataset"
   ]
  },
  {
   "cell_type": "code",
   "execution_count": 68,
   "metadata": {
    "scrolled": true
   },
   "outputs": [
    {
     "name": "stdout",
     "output_type": "stream",
     "text": [
      "  release_count    ocid_count\n",
      "---------------  ------------\n",
      "        1892352       1892352\n"
     ]
    }
   ],
   "source": [
    "cur.execute(\"\"\"\n",
    "SELECT\n",
    "    COUNT(id) as release_count,\n",
    "    COUNT(DISTINCT data ->> 'ocid') as ocid_count\n",
    "FROM\n",
    "    data\n",
    "WHERE\n",
    "    data ->> 'ocid' LIKE 'ocds-be6bcu%'\n",
    "\"\"\")\n",
    "\n",
    "printResults(cur)"
   ]
  },
  {
   "cell_type": "markdown",
   "metadata": {},
   "source": [
    "One release per ocid"
   ]
  },
  {
   "cell_type": "markdown",
   "metadata": {},
   "source": [
    "### Releases by tag "
   ]
  },
  {
   "cell_type": "code",
   "execution_count": 48,
   "metadata": {},
   "outputs": [
    {
     "name": "stdout",
     "output_type": "stream",
     "text": [
      "  release_count  tag\n",
      "---------------  --------------------------------------\n",
      "         230269  [\"tender\"]\n",
      "          13203  [\"tender\", \"award\"]\n",
      "          61133  [\"tender\", \"award\", \"bid\"]\n",
      "        1004187  [\"tender\", \"award\", \"contract\"]\n",
      "         546471  [\"tender\", \"award\", \"contract\", \"bid\"]\n",
      "          37089  [\"tender\", \"bid\"]\n"
     ]
    }
   ],
   "source": [
    "cur.execute(\"\"\"\n",
    "SELECT\n",
    "    COUNT(id) as release_count,\n",
    "    data ->> 'tag' as tag\n",
    "FROM\n",
    "    data\n",
    "WHERE\n",
    "    data ->> 'ocid' LIKE 'ocds-be6bcu%'\n",
    "GROUP BY\n",
    "    tag\n",
    "\"\"\")\n",
    "\n",
    "printResults(cur)\n"
   ]
  },
  {
   "cell_type": "markdown",
   "metadata": {},
   "source": [
    "Results suggest that releases and records model is not fully implemented -> expected to see similar numbers of tender and award releases"
   ]
  }
 ],
 "metadata": {
  "kernelspec": {
   "display_name": "ocinfra2",
   "language": "python",
   "name": "ocinfra2"
  },
  "language_info": {
   "codemirror_mode": {
    "name": "ipython",
    "version": 3
   },
   "file_extension": ".py",
   "mimetype": "text/x-python",
   "name": "python",
   "nbconvert_exporter": "python",
   "pygments_lexer": "ipython3",
   "version": "3.5.2"
  }
 },
 "nbformat": 4,
 "nbformat_minor": 2
}
