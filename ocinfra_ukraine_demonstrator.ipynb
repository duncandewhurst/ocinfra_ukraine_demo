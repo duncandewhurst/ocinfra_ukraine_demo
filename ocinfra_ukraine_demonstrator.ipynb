{
 "cells": [
  {
   "cell_type": "code",
   "execution_count": 1,
   "metadata": {},
   "outputs": [],
   "source": [
    "from requests import get\n",
    "from bs4 import BeautifulSoup\n",
    "import pprint\n",
    "import json"
   ]
  },
  {
   "cell_type": "code",
   "execution_count": 2,
   "metadata": {},
   "outputs": [],
   "source": [
    "#function to scrape content of main table\n",
    "def scrape(url,output):\n",
    "    \n",
    "    #get html and convert to nice object\n",
    "    html = get(url,stream=True).content\n",
    "    html = BeautifulSoup(html, \"html.parser\")\n",
    "    \n",
    "    #get name of section we are scraping and create an object for it\n",
    "    section = html.body[\"id\"]\n",
    "    output[section] = {} \n",
    "    \n",
    "    main_table = html.find(\"div\", class_=\"well\")\n",
    "    \n",
    "    for td in main_table.select(\"td\"):\n",
    "        if \"data-column-name\" in td.attrs:\n",
    "            output[section][td[\"data-column-name\"]] = td.text\n",
    "    \n",
    "    return output"
   ]
  },
  {
   "cell_type": "code",
   "execution_count": 3,
   "metadata": {},
   "outputs": [],
   "source": [
    "#update with value of &fk0 parameter in URL of project you want to scrape\n",
    "foreignKey = \"1\""
   ]
  },
  {
   "cell_type": "code",
   "execution_count": 5,
   "metadata": {},
   "outputs": [],
   "source": [
    "#get html of first page and convert to nice object\n",
    "html = get(\"http://portal.costukraine.org/uad_mfo/PROJECTS.php?hname=dbo_PROJECTS_dbo_PROJECTS_TECH_DETAILS_handler&fk0=\" + foreignKey + \"&master_viewmode=0\",stream=True).content\n",
    "html = BeautifulSoup(html, \"html.parser\")"
   ]
  },
  {
   "cell_type": "code",
   "execution_count": 6,
   "metadata": {},
   "outputs": [],
   "source": [
    "#set up array to store urls for each view of project\n",
    "urls = []\n",
    "\n",
    "#get urls of each page\n",
    "navigation = html.find(\"ul\", class_=\"nav nav-tabs grid-details-tabs\")\n",
    "for li in navigation.select(\"li\"):\n",
    "    urls.append(li.a[\"href\"])"
   ]
  },
  {
   "cell_type": "code",
   "execution_count": 7,
   "metadata": {},
   "outputs": [],
   "source": [
    "#put amendments URL in separate variable (page has different structure)\n",
    "amendmentsURL = urls.pop()"
   ]
  },
  {
   "cell_type": "code",
   "execution_count": 8,
   "metadata": {},
   "outputs": [],
   "source": [
    "#set up object for scraped data\n",
    "data = {}"
   ]
  },
  {
   "cell_type": "code",
   "execution_count": 9,
   "metadata": {},
   "outputs": [],
   "source": [
    "#scrape summary table (appears on each page, so only do this once)\n",
    "data[\"summary\"] = {}\n",
    "\n",
    "summary_table = html.find(\"div\", class_=\"grid grid-table grid-master js-grid\")\n",
    "\n",
    "for th in summary_table.select(\"th\"):\n",
    "        data[\"summary\"][th[\"data-name\"]] = \"\"\n",
    "        \n",
    "for td in summary_table.select(\"td\"):\n",
    "    if \"data-column-name\" in td.attrs:\n",
    "        data[\"summary\"][td[\"data-column-name\"]] = td.text"
   ]
  },
  {
   "cell_type": "code",
   "execution_count": 10,
   "metadata": {},
   "outputs": [
    {
     "name": "stdout",
     "output_type": "stream",
     "text": [
      "scraping PROJECTS.php?hname=dbo_PROJECTS_dbo_PROJECTS_TECH_DETAILS_handler&fk0=1&master_viewmode=0\n",
      "scraping PROJECTS.php?hname=dbo_PROJECTS_dbo_PROJECTS_SUBJECTS_handler&fk0=1&master_viewmode=0\n",
      "scraping PROJECTS.php?hname=dbo_PROJECTS_dbo_PROJECTS_CUSTOMER_handler&fk0=1&master_viewmode=0\n",
      "scraping PROJECTS.php?hname=dbo_PROJECTS_dbo_PROJECTS_FINANCING_handler&fk0=1&master_viewmode=0\n",
      "scraping PROJECTS.php?hname=dbo_PROJECTS_dbo_PROJECTS_PROJECT_ORGANIZATION_handler&fk0=1&master_viewmode=0\n",
      "scraping PROJECTS.php?hname=dbo_PROJECTS_dbo_PROJECTS_CONTRACTOR_handler&fk0=1&master_viewmode=0\n",
      "scraping PROJECTS.php?hname=dbo_PROJECTS_dbo_PROJECTS_ENG_SUPERVIZORY_handler&fk0=1&master_viewmode=0\n",
      "scraping PROJECTS.php?hname=dbo_PROJECTS_dbo_PROJECTS_TECH_SUPERVIZORY_handler&fk0=1&master_viewmode=0\n"
     ]
    }
   ],
   "source": [
    "#scrape main table on each page\n",
    "\n",
    "for url in urls:\n",
    "    print(\"scraping \" + url)\n",
    "    data = scrape(\"http://portal.costukraine.org/uad_mfo/\" + url, data)"
   ]
  },
  {
   "cell_type": "code",
   "execution_count": 12,
   "metadata": {},
   "outputs": [],
   "source": [
    "with open(\"data_\" + foreignKey + \".json\", \"w\") as output:\n",
    "    json.dump(data, output)"
   ]
  },
  {
   "cell_type": "code",
   "execution_count": null,
   "metadata": {},
   "outputs": [],
   "source": []
  }
 ],
 "metadata": {
  "kernelspec": {
   "display_name": "ocinfra2",
   "language": "python",
   "name": "ocinfra2"
  },
  "language_info": {
   "codemirror_mode": {
    "name": "ipython",
    "version": 3
   },
   "file_extension": ".py",
   "mimetype": "text/x-python",
   "name": "python",
   "nbconvert_exporter": "python",
   "pygments_lexer": "ipython3",
   "version": "3.5.2"
  }
 },
 "nbformat": 4,
 "nbformat_minor": 2
}
